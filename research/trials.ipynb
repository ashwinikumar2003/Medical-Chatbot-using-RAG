{
 "cells": [
  {
   "cell_type": "code",
   "execution_count": 11,
   "metadata": {},
   "outputs": [],
   "source": [
    "from langchain.document_loaders import PyPDFLoader, DirectoryLoader\n",
    "from langchain.text_splitter import RecursiveCharacterTextSplitter"
   ]
  },
  {
   "cell_type": "code",
   "execution_count": 12,
   "metadata": {},
   "outputs": [],
   "source": [
    "# extract data from pdf file\n",
    "def load_pdf_file(file_path):\n",
    "    loader = DirectoryLoader(file_path, glob=\"*.pdf\", loader_cls=PyPDFLoader)\n",
    "    documents = loader.load()\n",
    "    return documents"
   ]
  },
  {
   "cell_type": "code",
   "execution_count": 13,
   "metadata": {},
   "outputs": [],
   "source": [
    "extracted_data = load_pdf_file(\"../Data/\")"
   ]
  },
  {
   "cell_type": "code",
   "execution_count": 14,
   "metadata": {},
   "outputs": [
    {
     "data": {
      "text/plain": [
       "4505"
      ]
     },
     "execution_count": 14,
     "metadata": {},
     "output_type": "execute_result"
    }
   ],
   "source": [
    "len(extracted_data)"
   ]
  },
  {
   "cell_type": "code",
   "execution_count": null,
   "metadata": {},
   "outputs": [],
   "source": [
    "# split data into text chunks\n",
    "\n",
    "def text_split(extracted_data):\n",
    "    splitter = RecursiveCharacterTextSplitter(chunk_size=800, chunk_overlap=20)\n",
    "    text_chunks = splitter.split_documents(extracted_data)\n",
    "    return text_chunks"
   ]
  },
  {
   "cell_type": "code",
   "execution_count": 16,
   "metadata": {},
   "outputs": [
    {
     "name": "stdout",
     "output_type": "stream",
     "text": [
      "length of extracted chunks:  30614\n"
     ]
    }
   ],
   "source": [
    "text_chunks = text_split(extracted_data)\n",
    "print(\"length of extracted chunks: \",len(text_chunks))"
   ]
  },
  {
   "cell_type": "code",
   "execution_count": 18,
   "metadata": {},
   "outputs": [],
   "source": [
    "from langchain.embeddings import HuggingFaceEmbeddings\n",
    "\n",
    "def download_hf_embeddings():\n",
    "    embeddings = HuggingFaceEmbeddings(model_name = 'sentence-transformers/all-MiniLM-L6-v2')\n",
    "    return embeddings"
   ]
  },
  {
   "cell_type": "code",
   "execution_count": 22,
   "metadata": {},
   "outputs": [],
   "source": [
    "embeddings = download_hf_embeddings()"
   ]
  },
  {
   "cell_type": "code",
   "execution_count": 6,
   "metadata": {},
   "outputs": [
    {
     "data": {
      "text/plain": [
       "True"
      ]
     },
     "execution_count": 6,
     "metadata": {},
     "output_type": "execute_result"
    }
   ],
   "source": [
    "from dotenv import load_dotenv\n",
    "load_dotenv()"
   ]
  },
  {
   "cell_type": "code",
   "execution_count": 7,
   "metadata": {},
   "outputs": [],
   "source": [
    "import os\n",
    "PINECONE_API_KEY = os.environ.get(\"PINECONE_API_KEY\")\n",
    "GROQ_API_KEY = os.environ.get(\"GROQ_API_KEY\")"
   ]
  },
  {
   "cell_type": "code",
   "execution_count": 17,
   "metadata": {},
   "outputs": [],
   "source": [
    "index_name = \"medical-encyclopedia\""
   ]
  },
  {
   "cell_type": "code",
   "execution_count": null,
   "metadata": {},
   "outputs": [],
   "source": [
    "# query_results \n",
    "from pinecone.grpc import PineconeGRPC as Pinecone\n",
    "# from pinecone import ServerlessSpec\n",
    "\n",
    "pc = Pinecone(api_key=PINECONE_API_KEY)\n",
    "index_name = \"medical-encyclopedia\"\n",
    "\n",
    "pc.create_index(\n",
    "    name=\"medical-encyclopedia\",\n",
    "    dimension=384, # Replace with your model dimensions\n",
    "    metric=\"cosine\", # Replace with your model metric\n",
    "    spec=ServerlessSpec(\n",
    "        cloud=\"aws\",\n",
    "        region=\"us-east-1\"\n",
    "    ) \n",
    ")"
   ]
  },
  {
   "cell_type": "code",
   "execution_count": 8,
   "metadata": {},
   "outputs": [],
   "source": [
    "import os\n",
    "os.environ[\"PINECONE_API_KEY\"] = PINECONE_API_KEY\n",
    "os.environ[\"GROQ_API_KEY\"] = GROQ_API_KEY"
   ]
  },
  {
   "cell_type": "code",
   "execution_count": 25,
   "metadata": {},
   "outputs": [],
   "source": [
    "from langchain_pinecone import PineconeVectorStore\n",
    "docsearch = PineconeVectorStore.from_documents(\n",
    "    documents=text_chunks,\n",
    "    index_name=index_name,\n",
    "    embedding=embeddings\n",
    ")"
   ]
  },
  {
   "cell_type": "code",
   "execution_count": 23,
   "metadata": {},
   "outputs": [],
   "source": [
    "# Load Existing Pinecone Index\n",
    "from langchain_pinecone import PineconeVectorStore\n",
    "docsearch = PineconeVectorStore.from_existing_index(\n",
    "    index_name=index_name,\n",
    "    embedding=embeddings\n",
    ")"
   ]
  },
  {
   "cell_type": "code",
   "execution_count": 24,
   "metadata": {},
   "outputs": [],
   "source": [
    "retriever = docsearch.as_retriever(search_type=\"similarity\", search_kwargs={\"k\": 3})"
   ]
  },
  {
   "cell_type": "code",
   "execution_count": 14,
   "metadata": {},
   "outputs": [
    {
     "data": {
      "text/plain": [
       "[Document(id='30437c73-93a9-4429-9399-2b92591d0391', metadata={'page': 1730.0, 'source': '..\\\\Data\\\\encyclopedia.pdf'}, page_content='Heart attack\\nDefinition\\nA heart attack is the death of, or damage to, part\\nof the heart muscle because the supply of blood to the\\nheart muscle is severely reduced or stopped.\\nDescription\\nHeart attack is the leading cause of death in\\nthe United States. More than 1.5 million Americans\\nsuffer a heart attack every year, and almost half a\\nmillion die, according to the American Heart\\nAssociation. Most heart attacks are the end result of\\nyears of silent but progressivecoronary artery disease,\\nwhich can be prevented in many people. A heart attack\\noften is the first symptom of coronary artery disease.\\nAccording to the American Heart Association, 63%\\nof women and 48% of men who died suddenly of\\ncoronary artery disease had no previous symptoms.\\nHeart attacks also are called myocardial infarctions'),\n",
       " Document(id='640c1425-0687-4bb2-a379-aff91ff8a7b2', metadata={'page': 1730.0, 'source': '..\\\\Data\\\\encyclopedia.pdf'}, page_content='According to the American Heart Association, 63%\\nof women and 48% of men who died suddenly of\\ncoronary artery disease had no previous symptoms.\\nHeart attacks also are called myocardial infarctions\\n(MIs).\\nA heart attack occurs when one or more of the\\ncoronary arteries that supply blood to the heart are\\ncompletely blocked and blood to the heart muscle is\\ncut off. The blockage usually is caused byatherosclero-\\nsis, the build-up of plaque in the artery walls, and/or\\nby a blood clot in a coronary artery. Sometimes, a\\nhealthy or atherosclerotic coronary artery has a\\nspasm and the blood flow to part of the heart\\ndecreases or stops. Why this happens is unclear, but\\nit can result in a heart attack.\\nAbout half of all heart attack victims wait at least'),\n",
       " Document(id='29f4941f-f9bc-40c3-a183-0b7ee8ae7fbb', metadata={'page': 1730.0, 'source': '..\\\\Data\\\\encyclopedia.pdf'}, page_content='medical attention at the nearest hospital with 24-hour\\nemergency cardiac care.\\nAbout one-fifth of all heart attacks are silent, that\\nis, the victim does not know one has occurred.\\nAlthough the victim feels nopain, silent heart attacks\\nstill can damage the heart.\\nThe outcome of a heart attack also depends on\\nwhere the blockage is, whether the heart rhythm is\\ndisturbed, and whether another coronary artery sup-\\nplies blood to that part of the heart. Blockages in the\\nleft coronary artery usually are more serious than in\\nthe right coronary artery. Blockages that cause an\\narrhythmia, an irregular heartbeat, can cause sudden\\ndeath.\\nCauses and symptoms\\nHeart attacks generally are caused by severe\\ncoronary artery disease. Most heart attacks are caused')]"
      ]
     },
     "execution_count": 14,
     "metadata": {},
     "output_type": "execute_result"
    }
   ],
   "source": [
    "retrieved_docs = retriever.invoke(\"heart attack\")\n",
    "retrieved_docs"
   ]
  },
  {
   "cell_type": "code",
   "execution_count": 1,
   "metadata": {},
   "outputs": [],
   "source": [
    "from langchain_groq import ChatGroq"
   ]
  },
  {
   "cell_type": "code",
   "execution_count": 10,
   "metadata": {},
   "outputs": [],
   "source": [
    "chat_model = ChatGroq(\n",
    "    temperature=0.4,\n",
    "    groq_api_key=GROQ_API_KEY,\n",
    "    model_name=\"llama3-8b-8192\",\n",
    ")"
   ]
  },
  {
   "cell_type": "code",
   "execution_count": 43,
   "metadata": {},
   "outputs": [],
   "source": [
    "from langchain.chains import create_retrieval_chain\n",
    "from langchain.chains.combine_documents import create_stuff_documents_chain\n",
    "from langchain_core.prompts import ChatPromptTemplate\n",
    "\n",
    "system_prompt = (\n",
    "    \"You are an assistant for question-answering tasks. \"\n",
    "    \"Use the following piece of retrived context to answer \"\n",
    "    \"the question. If you don't know the answer, say that you don't know. \"\n",
    "    \"Use three to four sentences maximum and keep the answer concise. \"\n",
    "    \"\\n\\n\"\n",
    "    \"{context}\"\n",
    ")\n",
    "\n",
    "prompt = ChatPromptTemplate.from_messages(\n",
    "    [\n",
    "        (\"system\", system_prompt),\n",
    "        (\"human\", \"{input}\"),\n",
    "    ]\n",
    ")"
   ]
  },
  {
   "cell_type": "code",
   "execution_count": null,
   "metadata": {},
   "outputs": [],
   "source": [
    "question_answer_chain = create_stuff_documents_chain(chat_model, prompt)\n",
    "rag_chain = create_retrieval_chain(retriever, question_answer_chain)"
   ]
  },
  {
   "cell_type": "code",
   "execution_count": null,
   "metadata": {},
   "outputs": [],
   "source": [
    "# response = rag_chain.invoke({\"input\": \"What to do in case of cardiac arrest?\"})\n",
    "response = rag_chain.invoke({\"input\": \"who is president of the USA?\"})\n",
    "print(response[\"answer\"])"
   ]
  },
  {
   "cell_type": "code",
   "execution_count": null,
   "metadata": {},
   "outputs": [],
   "source": []
  }
 ],
 "metadata": {
  "kernelspec": {
   "display_name": "Python 3",
   "language": "python",
   "name": "python3"
  },
  "language_info": {
   "codemirror_mode": {
    "name": "ipython",
    "version": 3
   },
   "file_extension": ".py",
   "mimetype": "text/x-python",
   "name": "python",
   "nbconvert_exporter": "python",
   "pygments_lexer": "ipython3",
   "version": "3.10.6"
  }
 },
 "nbformat": 4,
 "nbformat_minor": 2
}
